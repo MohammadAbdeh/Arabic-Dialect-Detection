{
  "nbformat": 4,
  "nbformat_minor": 0,
  "metadata": {
    "colab": {
      "provenance": []
    },
    "kernelspec": {
      "name": "python3",
      "display_name": "Python 3"
    }
  },
  "cells": [
    {
      "cell_type": "code",
      "metadata": {
        "colab": {
          "base_uri": "https://localhost:8080/"
        },
        "id": "EyJuonrA_D58",
        "outputId": "4bc35b89-c30f-48c2-cd06-ee30eaa0bd7d"
      },
      "source": [
        "!pip install pyarabic\n",
        "!pip install farasapy\n",
        "!pip install pyarabic\n",
        "!git clone https://github.com/aub-mind/arabert/\n",
        "!cd arabert && git checkout 6a58ca118911ef311cbe8cdcdcc1d0360"
      ],
      "execution_count": null,
      "outputs": [
        {
          "output_type": "stream",
          "text": [
            "Collecting pyarabic\n",
            "\u001b[?25l  Downloading https://files.pythonhosted.org/packages/7b/e2/46728ec2f6fe14970de5c782346609f0636262c0941228f363710903aaa1/PyArabic-0.6.10.tar.gz (108kB)\n",
            "\r\u001b[K     |███                             | 10kB 16.1MB/s eta 0:00:01\r\u001b[K     |██████                          | 20kB 10.4MB/s eta 0:00:01\r\u001b[K     |█████████                       | 30kB 8.5MB/s eta 0:00:01\r\u001b[K     |████████████                    | 40kB 7.3MB/s eta 0:00:01\r\u001b[K     |███████████████                 | 51kB 4.4MB/s eta 0:00:01\r\u001b[K     |██████████████████              | 61kB 4.8MB/s eta 0:00:01\r\u001b[K     |█████████████████████           | 71kB 4.9MB/s eta 0:00:01\r\u001b[K     |████████████████████████        | 81kB 5.2MB/s eta 0:00:01\r\u001b[K     |███████████████████████████     | 92kB 5.6MB/s eta 0:00:01\r\u001b[K     |██████████████████████████████  | 102kB 5.5MB/s eta 0:00:01\r\u001b[K     |████████████████████████████████| 112kB 5.5MB/s \n",
            "\u001b[?25hBuilding wheels for collected packages: pyarabic\n",
            "  Building wheel for pyarabic (setup.py) ... \u001b[?25l\u001b[?25hdone\n",
            "  Created wheel for pyarabic: filename=PyArabic-0.6.10-cp36-none-any.whl size=113324 sha256=14642f78533f086d08e38bc3b75cd7f52c9b35119e7712199052a7da714848b1\n",
            "  Stored in directory: /root/.cache/pip/wheels/10/b8/f5/b7c1a50e6efb83544844f165a9b134afe7292585465e29b61d\n",
            "Successfully built pyarabic\n",
            "Installing collected packages: pyarabic\n",
            "Successfully installed pyarabic-0.6.10\n",
            "Collecting farasapy\n",
            "  Downloading https://files.pythonhosted.org/packages/ba/49/a1cea02059325e99bbd1114704140101893c629e67b15eaacb93711dc91e/farasapy-0.0.11-py3-none-any.whl\n",
            "Requirement already satisfied: tqdm in /usr/local/lib/python3.6/dist-packages (from farasapy) (4.41.1)\n",
            "Requirement already satisfied: requests in /usr/local/lib/python3.6/dist-packages (from farasapy) (2.23.0)\n",
            "Requirement already satisfied: urllib3!=1.25.0,!=1.25.1,<1.26,>=1.21.1 in /usr/local/lib/python3.6/dist-packages (from requests->farasapy) (1.24.3)\n",
            "Requirement already satisfied: idna<3,>=2.5 in /usr/local/lib/python3.6/dist-packages (from requests->farasapy) (2.10)\n",
            "Requirement already satisfied: certifi>=2017.4.17 in /usr/local/lib/python3.6/dist-packages (from requests->farasapy) (2020.12.5)\n",
            "Requirement already satisfied: chardet<4,>=3.0.2 in /usr/local/lib/python3.6/dist-packages (from requests->farasapy) (3.0.4)\n",
            "Installing collected packages: farasapy\n",
            "Successfully installed farasapy-0.0.11\n",
            "Requirement already satisfied: pyarabic in /usr/local/lib/python3.6/dist-packages (0.6.10)\n",
            "Cloning into 'arabert'...\n",
            "remote: Enumerating objects: 203, done.\u001b[K\n",
            "remote: Counting objects: 100% (203/203), done.\u001b[K\n",
            "remote: Compressing objects: 100% (148/148), done.\u001b[K\n",
            "remote: Total 417 (delta 96), reused 151 (delta 49), pack-reused 214\u001b[K\n",
            "Receiving objects: 100% (417/417), 3.82 MiB | 21.74 MiB/s, done.\n",
            "Resolving deltas: 100% (219/219), done.\n",
            "Note: checking out '6a58ca118911ef311cbe8cdcdcc1d0360'.\n",
            "\n",
            "You are in 'detached HEAD' state. You can look around, make experimental\n",
            "changes and commit them, and you can discard any commits you make in this\n",
            "state without impacting any branches by performing another checkout.\n",
            "\n",
            "If you want to create a new branch to retain commits you create, you may\n",
            "do so (now or later) by using -b with the checkout command again. Example:\n",
            "\n",
            "  git checkout -b <new-branch-name>\n",
            "\n",
            "HEAD is now at 6a58ca1 added lamb\n"
          ],
          "name": "stdout"
        }
      ]
    },
    {
      "cell_type": "code",
      "metadata": {
        "colab": {
          "base_uri": "https://localhost:8080/"
        },
        "id": "lTQ3FZfLyaf4",
        "outputId": "55155f39-ba7d-469a-86ba-95487ee4f4b7"
      },
      "source": [
        "import pandas as pd\n",
        "import numpy as np\n",
        "from sklearn.linear_model import LogisticRegression\n",
        "from sklearn.model_selection import cross_val_score\n",
        "import tensorflow as tf\n",
        "from tensorflow.keras import layers\n",
        "from sklearn.pipeline import FeatureUnion\n",
        "from sklearn.metrics import f1_score, accuracy_score, confusion_matrix, classification_report, precision_score,recall_score\n",
        "from statistics import mode\n",
        "from farasa.segmenter import FarasaSegmenter\n",
        "from arabert.preprocess_arabert import preprocess\n",
        "\n",
        "farasa_segmenter = FarasaSegmenter(interactive=True)"
      ],
      "execution_count": null,
      "outputs": [
        {
          "output_type": "stream",
          "text": [
            "/usr/local/lib/python3.6/dist-packages/urllib3/connectionpool.py:847: InsecureRequestWarning: Unverified HTTPS request is being made. Adding certificate verification is strongly advised. See: https://urllib3.readthedocs.io/en/latest/advanced-usage.html#ssl-warnings\n",
            "  InsecureRequestWarning)\n"
          ],
          "name": "stderr"
        },
        {
          "output_type": "stream",
          "text": [
            "100%|██████████| 241M/241M [00:20<00:00, 12.8MiB/s]"
          ],
          "name": "stdout"
        },
        {
          "output_type": "stream",
          "text": [
            "[2021-01-23 16:55:24,018 - farasapy_logger - WARNING]: Be careful with large lines as they may break on interactive mode. You may switch to Standalone mode for such cases.\n"
          ],
          "name": "stderr"
        }
      ]
    },
    {
      "cell_type": "code",
      "metadata": {
        "colab": {
          "base_uri": "https://localhost:8080/"
        },
        "id": "eMJVX9EcZ2gs",
        "outputId": "2f384882-f87f-4005-a7c0-f4e836c99ba2"
      },
      "source": [
        "# reading prediction scores files\n",
        "from google.colab import drive\n",
        "drive.mount('/content/drive')"
      ],
      "execution_count": null,
      "outputs": [
        {
          "output_type": "stream",
          "text": [
            "Mounted at /content/drive\n"
          ],
          "name": "stdout"
        }
      ]
    },
    {
      "cell_type": "code",
      "metadata": {
        "id": "QEj5tr6x-sDX"
      },
      "source": [
        "DATA_COLUMN = 'line'\n",
        "LABEL_COLUMN = 'dialect'\n",
        "\n",
        "label_map = {\n",
        "    'AE' : 0,\n",
        "    'BH' : 1,\n",
        "    'DZ' : 2,\n",
        "    'EG' : 3,\n",
        "    'IQ' : 4,\n",
        "    'JO' : 5,\n",
        "    'KW' : 6,\n",
        "    'LB' : 7,\n",
        "    'LY' : 8,\n",
        "    'MA' : 9,\n",
        "    'OM' : 10,\n",
        "    'PL' : 11,\n",
        "    'QA' : 12,\n",
        "    'SA' : 13,\n",
        "    'SD' : 14,\n",
        "    'SY' : 15,\n",
        "    'TN' : 16,\n",
        "    'YE' : 17\n",
        "}\n",
        "\n",
        "test_data = pd.read_csv('/content/drive/MyDrive/testset/QADI_test.txt', sep = '\\t', header=None, lineterminator='\\n')\n",
        "test_data.columns = [DATA_COLUMN, LABEL_COLUMN]\n",
        "\n",
        "test_data.drop(test_data.index[test_data[LABEL_COLUMN] == 'MSA'], inplace = True)\n",
        "\n",
        "test_data[DATA_COLUMN] = test_data[DATA_COLUMN].apply(lambda x: preprocess(x, do_farasa_tokenization=True , farasa=farasa_segmenter, use_farasapy = True))\n",
        "\n",
        "test_data[LABEL_COLUMN] = test_data[LABEL_COLUMN].apply(lambda x: label_map[x])\n",
        "\n",
        "dev_df = pd.DataFrame({\n",
        "    'id':range(len(test_data)),\n",
        "    'label':test_data[LABEL_COLUMN],\n",
        "    'text': test_data[DATA_COLUMN].replace(r'\\n', ' ', regex=True)\n",
        "})"
      ],
      "execution_count": null,
      "outputs": []
    },
    {
      "cell_type": "code",
      "metadata": {
        "id": "dLvKViYuyblG"
      },
      "source": [
        "\n",
        "\n",
        "mlp_preds = np.array(pd.read_csv('/content/drive/MyDrive/nlp_models/models_predictions/neural_n_grams.csv', header = None, sep = ','))\n",
        "mini_preds = np.array(pd.read_csv('/content/drive/MyDrive/nlp_models/models_predictions/arabic_bert_mini_predictions.csv', header = None, sep = ','))\n",
        "medium_preds = np.array(pd.read_csv('/content/drive/MyDrive/nlp_models/models_predictions/arabicbert_medium_predictions.csv', header = None, sep = ','))\n",
        "base_preds = np.array(pd.read_csv('/content/drive/MyDrive/nlp_models/models_predictions/arabicbert_base_predictions.csv', header = None, sep = ','))"
      ],
      "execution_count": null,
      "outputs": []
    },
    {
      "cell_type": "code",
      "metadata": {
        "id": "_TYTTJjG0frx"
      },
      "source": [
        "def count(lst, x):\n",
        "    count = 0\n",
        "    for ele in lst:\n",
        "        if (ele == x):\n",
        "            count = count + 1\n",
        "    return count\n",
        "\n",
        "def hard_voting(preds):\n",
        "  counts = []\n",
        "  for pred in preds:\n",
        "    counts.append(count(preds, pred))\n",
        "  if counts[0] == 1 and counts[1] == 1 and counts[2] == 1:\n",
        "    return preds[1]\n",
        "  if max(counts) == 3:\n",
        "    return preds[1]\n",
        "  return preds[counts.index(max(counts))]\n",
        "\n",
        "\n",
        "hard_voting_preds = []\n",
        "mlp_predictions = np.argmax(mlp_preds, axis=1)\n",
        "mini_predictions = np.argmax(mini_preds, axis=1)\n",
        "medium_predictions = np.argmax(medium_preds, axis=1)\n",
        "base_predictions = np.argmax(base_preds, axis=1)\n",
        "for index in range(len(mlp_preds)):\n",
        "  hard_voting_preds.append(hard_voting([mlp_predictions[index], medium_predictions[index], base_predictions[index]]))\n",
        "\n"
      ],
      "execution_count": null,
      "outputs": []
    },
    {
      "cell_type": "code",
      "metadata": {
        "id": "xFUB9qIf96cT"
      },
      "source": [
        "soft_voting = np.array(mlp_preds) * 0.2 + mini_preds * 0 + medium_preds * 0.4 + base_preds * 0.4\n",
        "soft_predictions =  np.argmax(soft_voting, axis = 1)"
      ],
      "execution_count": null,
      "outputs": []
    },
    {
      "cell_type": "code",
      "metadata": {
        "colab": {
          "base_uri": "https://localhost:8080/",
          "height": 948
        },
        "id": "Qa3SQKUNyLs7",
        "outputId": "1c87a028-3f4d-4cf2-94a0-d1599b298626"
      },
      "source": [
        "print(classification_report(dev_df['label'], soft_predictions))\n",
        "cf_matrix = confusion_matrix(dev_df['label'], soft_predictions)\n",
        "macro_f1 = f1_score(dev_df['label'], soft_predictions,average='macro')\n",
        "macro_precision = precision_score(dev_df['label'], soft_predictions,average='macro')\n",
        "macro_recall = recall_score(dev_df['label'], soft_predictions,average='macro')\n",
        "acc = accuracy_score(dev_df['label'], soft_predictions)\n",
        "print(\"macro f1: \" + str(macro_f1))\n",
        "print(\"macro precision: \" + str(macro_precision))\n",
        "print(\"macro recall: \" +str(macro_recall))\n",
        "print(\"accuracy: \" +str(acc))\n",
        "import seaborn as sns\n",
        "import matplotlib.pyplot as plt\n",
        "df_cm = pd.DataFrame(cf_matrix, index = [\"AE\",\"BH\",\"DZ\",\"EG\",\"IQ\",\"JO\",\"KW\",\"LB\",\"LY\",\"MA\",\"OM\",\"PL\",\"QA\",\"SA\",\"SD\",\"SY\",\"TN\",\"YE\"],\n",
        "                  columns = [\"AE\",\"BH\",\"DZ\",\"EG\",\"IQ\",\"JO\",\"KW\",\"LB\",\"LY\",\"MA\",\"OM\",\"PL\",\"QA\",\"SA\",\"SD\",\"SY\",\"TN\",\"YE\"])\n",
        "plt.figure(figsize = (10,7))\n",
        "sns.heatmap(df_cm, annot=True, fmt='g' )"
      ],
      "execution_count": null,
      "outputs": [
        {
          "output_type": "stream",
          "text": [
            "              precision    recall  f1-score   support\n",
            "\n",
            "           0       0.72      0.78      0.75       192\n",
            "           1       0.76      0.66      0.71       184\n",
            "           2       0.86      0.85      0.85       170\n",
            "           3       0.78      0.96      0.86       200\n",
            "           4       0.89      0.85      0.87       178\n",
            "           5       0.73      0.69      0.71       180\n",
            "           6       0.64      0.87      0.74       190\n",
            "           7       0.82      0.90      0.86       194\n",
            "           8       0.76      0.92      0.83       169\n",
            "           9       0.96      0.81      0.88       178\n",
            "          10       0.78      0.75      0.77       169\n",
            "          11       0.64      0.75      0.69       173\n",
            "          12       0.78      0.73      0.76       198\n",
            "          13       0.66      0.80      0.72       199\n",
            "          14       0.96      0.87      0.91       188\n",
            "          15       0.92      0.70      0.79       194\n",
            "          16       0.90      0.82      0.86       154\n",
            "          17       0.89      0.48      0.62       193\n",
            "\n",
            "    accuracy                           0.79      3303\n",
            "   macro avg       0.80      0.79      0.79      3303\n",
            "weighted avg       0.80      0.79      0.79      3303\n",
            "\n",
            "macro f1: 0.7880786780478233\n",
            "macro precision: 0.803384658696051\n",
            "macro recall: 0.7888060579684182\n",
            "accuracy: 0.7880714501967908\n"
          ],
          "name": "stdout"
        },
        {
          "output_type": "execute_result",
          "data": {
            "text/plain": [
              "<matplotlib.axes._subplots.AxesSubplot at 0x7f69a8ccf2e8>"
            ]
          },
          "metadata": {
            "tags": []
          },
          "execution_count": 65
        },
        {
          "output_type": "display_data",
          "data": {
            "image/png": "[encoded data removed]",
            "text/plain": [
              "<Figure size 720x504 with 2 Axes>"
            ]
          },
          "metadata": {
            "tags": [],
            "needs_background": "light"
          }
        }
      ]
    },
    {
      "cell_type": "code",
      "metadata": {
        "colab": {
          "base_uri": "https://localhost:8080/",
          "height": 183
        },
        "id": "saZoc4uEydPg",
        "outputId": "8871fd4c-9103-45ab-8571-d525c7e88514"
      },
      "source": [
        "# np.savetxt(\"/content/drive/MyDrive/nlp_models/model.csv\", predicted, delimiter=\",\")"
      ],
      "execution_count": null,
      "outputs": [
        {
          "output_type": "error",
          "ename": "NameError",
          "evalue": "ignored",
          "traceback": [
            "\u001b[0;31m---------------------------------------------------------------------------\u001b[0m",
            "\u001b[0;31mNameError\u001b[0m                                 Traceback (most recent call last)",
            "\u001b[0;32m<ipython-input-9-0bba4d25f270>\u001b[0m in \u001b[0;36m<module>\u001b[0;34m()\u001b[0m\n\u001b[0;32m----> 1\u001b[0;31m \u001b[0mnp\u001b[0m\u001b[0;34m.\u001b[0m\u001b[0msavetxt\u001b[0m\u001b[0;34m(\u001b[0m\u001b[0;34m\"/content/drive/MyDrive/nlp_models/model.csv\"\u001b[0m\u001b[0;34m,\u001b[0m \u001b[0mpredicted\u001b[0m\u001b[0;34m,\u001b[0m \u001b[0mdelimiter\u001b[0m\u001b[0;34m=\u001b[0m\u001b[0;34m\",\"\u001b[0m\u001b[0;34m)\u001b[0m\u001b[0;34m\u001b[0m\u001b[0;34m\u001b[0m\u001b[0m\n\u001b[0m",
            "\u001b[0;31mNameError\u001b[0m: name 'predicted' is not defined"
          ]
        }
      ]
    },
    {
      "cell_type": "code",
      "metadata": {
        "id": "eem4M8P68ipc",
        "colab": {
          "base_uri": "https://localhost:8080/"
        },
        "outputId": "2f974830-d9a2-42de-f74f-6df11ca96554"
      },
      "source": [
        "index = 0\n",
        "mlp = [mlp_predictions[index] for index in range(20,30)]\n",
        "base = [base_predictions[index] for index in range(20,30)]\n",
        "medium = [medium_predictions[index] for index in range(20,30)]\n",
        "soft =  [soft_predictions[index] for index in range(20,30)]\n",
        "test = [dev_df['label'][index] for index in range(20,30)]\n",
        "text = [dev_df['text'][index] for index in range(20,30)]\n",
        "print(mlp)\n",
        "print(base)\n",
        "print(medium)\n",
        "print(soft)\n",
        "print(test)\n",
        "print(text)"
      ],
      "execution_count": null,
      "outputs": [
        {
          "output_type": "stream",
          "text": [
            "[0, 0, 9, 5, 6, 14, 7, 6, 9, 4]\n",
            "[0, 0, 6, 5, 6, 14, 15, 6, 12, 4]\n",
            "[0, 9, 6, 5, 6, 14, 15, 6, 12, 4]\n",
            "[0, 0, 6, 5, 6, 14, 15, 6, 12, 4]\n",
            "[16, 0, 0, 13, 5, 6, 14, 15, 6, 12]\n",
            "['ال+ دفاع فضيح +ه +ه الله ياخذكم', '[مستخدم] و+ في نفس ال+ وقت ما يقعد ساكت و+ يغض ال+ بظر و+ لا ك+ أن +ه في شي غلط قاعد يصير NEWLINE ال+ رجل أتى ل+ روما ل+ ال+ استثمار و+ ليس ل+ كي يرمي فلوس +ه على ال+ فاضي', '[مستخدم] إذا اللي ف+ بالي ف+ مشكور على ال+ تغريد +ة EMOJI', '[مستخدم] طالب ك+ لاتجيب طار +ي ل+ محمد ال+ شلهوب ترى مافي +هم مكفي +هم .', '[مستخدم] رب +ي يبارك ب+ عمر ك+ و+ الف مبارك الك كمان EMOJI NEWLINE فال ك+ ال+ بيرق EMOJI', '[مستخدم] الله ينعم ب+ حالك ياخوي و+ ما علي ك+ زود ، تستاهل ال+ طيب', '[مستخدم] يا حبيب +نا أنا من أشد ال+ معارض +ين ل+ مزمل ، لكن في ناس مرتد +ين عديل و+ لا داسنها و+ كمان ب+ طالبو ب+ تغيير ال+ ديان +ة في ال+ رقم ال+ وطني ، ب+ قت على مزمل ! نحن ما ناس مغفل +ين عشان نصدق أوهام زي دي و+ لو صدق +نا +ها و+ صفق +نا لي +ها ال+ دور حيجيك و+ حيجي +نا ، ال+ شغل +ة كل +ها تصفي +ة حساب +ات ما اكتر', 'تعل +ا و+ تتعمر يادار . ب+ وجود ال+ رئيس بشار URL', '[مستخدم] هذي جامع +ه بس تطبع شهاد +ات بس وايد علي +هم ال+ مبني و+ أدخل فلوس بس كافي علي +هم هالمبني', '[مستخدم] حنا يا أهل قطر موجود +ين و+ مع +كم طال عمر ك+ EMOJI']\n"
          ],
          "name": "stdout"
        }
      ]
    }
  ]
}